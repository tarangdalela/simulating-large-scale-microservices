{
 "cells": [
  {
   "cell_type": "code",
   "execution_count": 1,
   "id": "40d7670c-c9ac-4d44-82b3-d710fed17ca4",
   "metadata": {},
   "outputs": [],
   "source": [
    "import pandas as pd\n",
    "import networkx as nx\n",
    "import matplotlib.pyplot as plt"
   ]
  },
  {
   "cell_type": "code",
   "execution_count": 2,
   "id": "ce0b29b5-4a00-4550-85b3-bf1821b75f2e",
   "metadata": {},
   "outputs": [],
   "source": [
    "df = pd.read_csv(\"./data/MSResource/MSResource_0.csv\")"
   ]
  },
  {
   "cell_type": "code",
   "execution_count": 3,
   "id": "57d52de0-0488-45e9-a105-ce4e6c1a25dc",
   "metadata": {},
   "outputs": [
    {
     "data": {
      "text/html": [
       "<div>\n",
       "<style scoped>\n",
       "    .dataframe tbody tr th:only-of-type {\n",
       "        vertical-align: middle;\n",
       "    }\n",
       "\n",
       "    .dataframe tbody tr th {\n",
       "        vertical-align: top;\n",
       "    }\n",
       "\n",
       "    .dataframe thead th {\n",
       "        text-align: right;\n",
       "    }\n",
       "</style>\n",
       "<table border=\"1\" class=\"dataframe\">\n",
       "  <thead>\n",
       "    <tr style=\"text-align: right;\">\n",
       "      <th></th>\n",
       "      <th>Unnamed: 0</th>\n",
       "      <th>msname</th>\n",
       "      <th>msinstanceid</th>\n",
       "      <th>nodeid</th>\n",
       "      <th>instance_cpu_usage</th>\n",
       "      <th>instance_memory_usage</th>\n",
       "      <th>timestamp</th>\n",
       "    </tr>\n",
       "  </thead>\n",
       "  <tbody>\n",
       "    <tr>\n",
       "      <th>0</th>\n",
       "      <td>0</td>\n",
       "      <td>e969a0c7f24365fb761f28067720558309317afce8630d...</td>\n",
       "      <td>2d64adf48bfaa8e81b72c6ec8e691a90d72237c944c4de...</td>\n",
       "      <td>85ad19cedb18370e11dd3f2f5ecde656b171464734e31b...</td>\n",
       "      <td>0.155000</td>\n",
       "      <td>0.676112</td>\n",
       "      <td>0</td>\n",
       "    </tr>\n",
       "    <tr>\n",
       "      <th>1</th>\n",
       "      <td>1</td>\n",
       "      <td>9ffca37e87db8609aa54ef630a4dd204f02581731d323f...</td>\n",
       "      <td>07dac0b810a2192b26d08a5054bb952b06a38475e509f6...</td>\n",
       "      <td>5c23656eb3f2a97c0e6d472280d228593f84f4f08cc0ac...</td>\n",
       "      <td>0.211542</td>\n",
       "      <td>0.667623</td>\n",
       "      <td>0</td>\n",
       "    </tr>\n",
       "    <tr>\n",
       "      <th>2</th>\n",
       "      <td>2</td>\n",
       "      <td>94dce029795f9357501c763b763bf951c8290ad1744ec1...</td>\n",
       "      <td>2b8cd6196fb98e11b689ae9b26b413179fc0fcdfc77ec2...</td>\n",
       "      <td>93a0b91487e3462150219c68a633a777f442b66d08b57a...</td>\n",
       "      <td>0.169167</td>\n",
       "      <td>0.520974</td>\n",
       "      <td>0</td>\n",
       "    </tr>\n",
       "    <tr>\n",
       "      <th>3</th>\n",
       "      <td>3</td>\n",
       "      <td>a86bcd9360c8bc9843b59186ba1d8ecf2dd4b5457ed822...</td>\n",
       "      <td>989d2516e70fc72d548fae97e76747cd08a868de0afac8...</td>\n",
       "      <td>918035a10567635e4347358eaff5abfc96c515e45e9a7a...</td>\n",
       "      <td>0.058917</td>\n",
       "      <td>0.523071</td>\n",
       "      <td>0</td>\n",
       "    </tr>\n",
       "    <tr>\n",
       "      <th>4</th>\n",
       "      <td>4</td>\n",
       "      <td>9a3ef4d24dd4e7fb8baaa9e30aea1395caa50f583630f6...</td>\n",
       "      <td>af7623ab312996e60a893c6a3ce7dacb8c3c087e084f63...</td>\n",
       "      <td>b6e4831928e2600fc9b3e5015ca06b141e677ee1d0d1de...</td>\n",
       "      <td>0.251000</td>\n",
       "      <td>0.798466</td>\n",
       "      <td>0</td>\n",
       "    </tr>\n",
       "    <tr>\n",
       "      <th>...</th>\n",
       "      <td>...</td>\n",
       "      <td>...</td>\n",
       "      <td>...</td>\n",
       "      <td>...</td>\n",
       "      <td>...</td>\n",
       "      <td>...</td>\n",
       "      <td>...</td>\n",
       "    </tr>\n",
       "    <tr>\n",
       "      <th>11564389</th>\n",
       "      <td>11564389</td>\n",
       "      <td>2387b3f417ee8dc3dcd4f6f9572b6552b704b395290f77...</td>\n",
       "      <td>1531e290bf8fb6cb06b957d94ccdb7c4f249aa8a794234...</td>\n",
       "      <td>700df2972e68af37a02ca0a25db87ed410adb3c8f6bef2...</td>\n",
       "      <td>0.056042</td>\n",
       "      <td>0.518659</td>\n",
       "      <td>2520000</td>\n",
       "    </tr>\n",
       "    <tr>\n",
       "      <th>11564390</th>\n",
       "      <td>11564390</td>\n",
       "      <td>88714911bb43c7aba982a0fc876eae066dba86e82e0d94...</td>\n",
       "      <td>0fa4644f67458ad251394cd086411a46c78d56820c7e34...</td>\n",
       "      <td>abcafd26c0097d35104760dbf622e0f98fd06751adc62b...</td>\n",
       "      <td>0.109667</td>\n",
       "      <td>0.516677</td>\n",
       "      <td>2520000</td>\n",
       "    </tr>\n",
       "    <tr>\n",
       "      <th>11564391</th>\n",
       "      <td>11564391</td>\n",
       "      <td>583d27f15062079d55fc47150474b1d6445b0fb313c5ba...</td>\n",
       "      <td>3603a933a8194a639090f8cf9f7c51b3397c00bd0ad3cd...</td>\n",
       "      <td>cfc7a01d2f3bdbc286ee2e4e73deda9c54288c05ec8280...</td>\n",
       "      <td>0.053021</td>\n",
       "      <td>0.379911</td>\n",
       "      <td>2520000</td>\n",
       "    </tr>\n",
       "    <tr>\n",
       "      <th>11564392</th>\n",
       "      <td>11564392</td>\n",
       "      <td>bbd25882cd24ffc834cc1ccd8de692424ae669f2ee7892...</td>\n",
       "      <td>329398148d72c7702f57ef2aa65e3bdcf192fea2fe8055...</td>\n",
       "      <td>288ae847921af7becc6d319be3be2aa23382c79c157d58...</td>\n",
       "      <td>0.066146</td>\n",
       "      <td>0.699807</td>\n",
       "      <td>2520000</td>\n",
       "    </tr>\n",
       "    <tr>\n",
       "      <th>11564393</th>\n",
       "      <td>11564393</td>\n",
       "      <td>103f50cb873950444c74ab1b92c007cbfe8eced210268c...</td>\n",
       "      <td>cb49dcee60562e7e1f1419bb8b82bdb33f0cb7106ccf8e...</td>\n",
       "      <td>a6c817b558727a14e7f376bd472e3a92b5d3f72680e7a9...</td>\n",
       "      <td>0.233042</td>\n",
       "      <td>0.754745</td>\n",
       "      <td>2520000</td>\n",
       "    </tr>\n",
       "  </tbody>\n",
       "</table>\n",
       "<p>11564394 rows × 7 columns</p>\n",
       "</div>"
      ],
      "text/plain": [
       "          Unnamed: 0                                             msname  \\\n",
       "0                  0  e969a0c7f24365fb761f28067720558309317afce8630d...   \n",
       "1                  1  9ffca37e87db8609aa54ef630a4dd204f02581731d323f...   \n",
       "2                  2  94dce029795f9357501c763b763bf951c8290ad1744ec1...   \n",
       "3                  3  a86bcd9360c8bc9843b59186ba1d8ecf2dd4b5457ed822...   \n",
       "4                  4  9a3ef4d24dd4e7fb8baaa9e30aea1395caa50f583630f6...   \n",
       "...              ...                                                ...   \n",
       "11564389    11564389  2387b3f417ee8dc3dcd4f6f9572b6552b704b395290f77...   \n",
       "11564390    11564390  88714911bb43c7aba982a0fc876eae066dba86e82e0d94...   \n",
       "11564391    11564391  583d27f15062079d55fc47150474b1d6445b0fb313c5ba...   \n",
       "11564392    11564392  bbd25882cd24ffc834cc1ccd8de692424ae669f2ee7892...   \n",
       "11564393    11564393  103f50cb873950444c74ab1b92c007cbfe8eced210268c...   \n",
       "\n",
       "                                               msinstanceid  \\\n",
       "0         2d64adf48bfaa8e81b72c6ec8e691a90d72237c944c4de...   \n",
       "1         07dac0b810a2192b26d08a5054bb952b06a38475e509f6...   \n",
       "2         2b8cd6196fb98e11b689ae9b26b413179fc0fcdfc77ec2...   \n",
       "3         989d2516e70fc72d548fae97e76747cd08a868de0afac8...   \n",
       "4         af7623ab312996e60a893c6a3ce7dacb8c3c087e084f63...   \n",
       "...                                                     ...   \n",
       "11564389  1531e290bf8fb6cb06b957d94ccdb7c4f249aa8a794234...   \n",
       "11564390  0fa4644f67458ad251394cd086411a46c78d56820c7e34...   \n",
       "11564391  3603a933a8194a639090f8cf9f7c51b3397c00bd0ad3cd...   \n",
       "11564392  329398148d72c7702f57ef2aa65e3bdcf192fea2fe8055...   \n",
       "11564393  cb49dcee60562e7e1f1419bb8b82bdb33f0cb7106ccf8e...   \n",
       "\n",
       "                                                     nodeid  \\\n",
       "0         85ad19cedb18370e11dd3f2f5ecde656b171464734e31b...   \n",
       "1         5c23656eb3f2a97c0e6d472280d228593f84f4f08cc0ac...   \n",
       "2         93a0b91487e3462150219c68a633a777f442b66d08b57a...   \n",
       "3         918035a10567635e4347358eaff5abfc96c515e45e9a7a...   \n",
       "4         b6e4831928e2600fc9b3e5015ca06b141e677ee1d0d1de...   \n",
       "...                                                     ...   \n",
       "11564389  700df2972e68af37a02ca0a25db87ed410adb3c8f6bef2...   \n",
       "11564390  abcafd26c0097d35104760dbf622e0f98fd06751adc62b...   \n",
       "11564391  cfc7a01d2f3bdbc286ee2e4e73deda9c54288c05ec8280...   \n",
       "11564392  288ae847921af7becc6d319be3be2aa23382c79c157d58...   \n",
       "11564393  a6c817b558727a14e7f376bd472e3a92b5d3f72680e7a9...   \n",
       "\n",
       "          instance_cpu_usage  instance_memory_usage  timestamp  \n",
       "0                   0.155000               0.676112          0  \n",
       "1                   0.211542               0.667623          0  \n",
       "2                   0.169167               0.520974          0  \n",
       "3                   0.058917               0.523071          0  \n",
       "4                   0.251000               0.798466          0  \n",
       "...                      ...                    ...        ...  \n",
       "11564389            0.056042               0.518659    2520000  \n",
       "11564390            0.109667               0.516677    2520000  \n",
       "11564391            0.053021               0.379911    2520000  \n",
       "11564392            0.066146               0.699807    2520000  \n",
       "11564393            0.233042               0.754745    2520000  \n",
       "\n",
       "[11564394 rows x 7 columns]"
      ]
     },
     "execution_count": 3,
     "metadata": {},
     "output_type": "execute_result"
    }
   ],
   "source": [
    "df"
   ]
  },
  {
   "cell_type": "code",
   "execution_count": 7,
   "id": "e37dedf7-e07a-4855-871a-503a88582891",
   "metadata": {},
   "outputs": [],
   "source": [
    "msnames = df['msname'].unique()\n",
    "msinstanceids = df['msinstanceid'].unique()\n",
    "nodeids = df['nodeid'].unique()"
   ]
  },
  {
   "cell_type": "code",
   "execution_count": 10,
   "id": "6ca8cd4e-528a-4241-b42b-ac8173de15a3",
   "metadata": {},
   "outputs": [
    {
     "data": {
      "text/plain": [
       "(1303, 96379, 12731)"
      ]
     },
     "execution_count": 10,
     "metadata": {},
     "output_type": "execute_result"
    }
   ],
   "source": [
    "len(msnames), len(msinstanceids), len(nodeids)"
   ]
  },
  {
   "cell_type": "code",
   "execution_count": 28,
   "id": "7d1df3a0-d097-47ff-b7ed-7d047b92e983",
   "metadata": {},
   "outputs": [],
   "source": [
    "def vs_time(x):\n",
    "    instance_df = df[df['msinstanceid']==msinstanceids[x]].copy()\n",
    "    instance_df.sort_values('timestamp', inplace=True)\n",
    "    instance_df.plot(x='timestamp', y='instance_cpu_usage')\n",
    "    plt.show()\n",
    "    instance_df = df[df['msinstanceid']==msinstanceids[x]].copy()\n",
    "    instance_df.sort_values('timestamp', inplace=True)\n",
    "    instance_df.plot(x='timestamp', y='instance_memory_usage')\n",
    "    plt.show()"
   ]
  },
  {
   "cell_type": "code",
   "execution_count": 30,
   "id": "5a9bd583-17c8-4e93-9bc1-22bcede4da5b",
   "metadata": {},
   "outputs": [
    {
     "data": {
      "application/vnd.jupyter.widget-view+json": {
       "model_id": "171368461ba94312a7257a77ecf1dd2e",
       "version_major": 2,
       "version_minor": 0
      },
      "text/plain": [
       "interactive(children=(IntSlider(value=0, description='x', max=96378), Output()), _dom_classes=('widget-interac…"
      ]
     },
     "metadata": {},
     "output_type": "display_data"
    }
   ],
   "source": [
    "from ipywidgets import interact, interactive, fixed, interact_manual\n",
    "import ipywidgets as widgets\n",
    "interact(vs_time, x=widgets.IntSlider(min=0, max=len(msinstanceids)-1, step=1, value=0));"
   ]
  },
  {
   "cell_type": "code",
   "execution_count": null,
   "id": "71010f72-a2dc-4c4c-ad5d-d5d68bd378ca",
   "metadata": {},
   "outputs": [],
   "source": []
  }
 ],
 "metadata": {
  "kernelspec": {
   "display_name": "Python 3 (ipykernel)",
   "language": "python",
   "name": "python3"
  },
  "language_info": {
   "codemirror_mode": {
    "name": "ipython",
    "version": 3
   },
   "file_extension": ".py",
   "mimetype": "text/x-python",
   "name": "python",
   "nbconvert_exporter": "python",
   "pygments_lexer": "ipython3",
   "version": "3.12.2"
  }
 },
 "nbformat": 4,
 "nbformat_minor": 5
}
