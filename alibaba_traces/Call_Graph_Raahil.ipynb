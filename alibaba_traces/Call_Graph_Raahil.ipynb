{
 "cells": [
  {
   "cell_type": "code",
   "execution_count": 2,
   "id": "99125d0f-2233-4622-8060-6805c79be80f",
   "metadata": {},
   "outputs": [],
   "source": [
    "import pandas as pd\n",
    "import networkx as nx\n",
    "import matplotlib.pyplot as plt"
   ]
  },
  {
   "cell_type": "code",
   "execution_count": 3,
   "id": "9a1d2d8f-e30d-4a0f-88aa-52000e1d2833",
   "metadata": {},
   "outputs": [],
   "source": [
    "df = pd.read_csv(\"./data/MSCallGraph/MSCallGraph_0.csv\")"
   ]
  },
  {
   "cell_type": "code",
   "execution_count": 4,
   "id": "ddaf397e-ac1f-4116-948f-b064f832c9d1",
   "metadata": {},
   "outputs": [
    {
     "data": {
      "text/html": [
       "<div>\n",
       "<style scoped>\n",
       "    .dataframe tbody tr th:only-of-type {\n",
       "        vertical-align: middle;\n",
       "    }\n",
       "\n",
       "    .dataframe tbody tr th {\n",
       "        vertical-align: top;\n",
       "    }\n",
       "\n",
       "    .dataframe thead th {\n",
       "        text-align: right;\n",
       "    }\n",
       "</style>\n",
       "<table border=\"1\" class=\"dataframe\">\n",
       "  <thead>\n",
       "    <tr style=\"text-align: right;\">\n",
       "      <th></th>\n",
       "      <th>Unnamed: 0</th>\n",
       "      <th>traceid</th>\n",
       "      <th>timestamp</th>\n",
       "      <th>rpcid</th>\n",
       "      <th>um</th>\n",
       "      <th>rpctype</th>\n",
       "      <th>dm</th>\n",
       "      <th>interface</th>\n",
       "      <th>rt</th>\n",
       "    </tr>\n",
       "  </thead>\n",
       "  <tbody>\n",
       "    <tr>\n",
       "      <th>0</th>\n",
       "      <td>0</td>\n",
       "      <td>0b133c1915919238193454000e5d37</td>\n",
       "      <td>219678</td>\n",
       "      <td>0.1.3.1.1.1.12</td>\n",
       "      <td>5cca70246befb1f4c9546d2912b9419dee54439218efa5...</td>\n",
       "      <td>mc</td>\n",
       "      <td>b1dbd3a649a3cc790fa12573c9c1aa00988e07a8818a22...</td>\n",
       "      <td>NaN</td>\n",
       "      <td>0</td>\n",
       "    </tr>\n",
       "    <tr>\n",
       "      <th>1</th>\n",
       "      <td>1</td>\n",
       "      <td>0b133c1915919238193454000e5d37</td>\n",
       "      <td>219684</td>\n",
       "      <td>0.1.3.1.1.14.19</td>\n",
       "      <td>5cca70246befb1f4c9546d2912b9419dee54439218efa5...</td>\n",
       "      <td>mc</td>\n",
       "      <td>b1dbd3a649a3cc790fa12573c9c1aa00988e07a8818a22...</td>\n",
       "      <td>NaN</td>\n",
       "      <td>1</td>\n",
       "    </tr>\n",
       "    <tr>\n",
       "      <th>2</th>\n",
       "      <td>2</td>\n",
       "      <td>0b133c1915919238193454000e5d37</td>\n",
       "      <td>219684</td>\n",
       "      <td>0.1.3.1.1.14.18</td>\n",
       "      <td>5cca70246befb1f4c9546d2912b9419dee54439218efa5...</td>\n",
       "      <td>mc</td>\n",
       "      <td>b1dbd3a649a3cc790fa12573c9c1aa00988e07a8818a22...</td>\n",
       "      <td>NaN</td>\n",
       "      <td>1</td>\n",
       "    </tr>\n",
       "    <tr>\n",
       "      <th>3</th>\n",
       "      <td>3</td>\n",
       "      <td>0b133c1915919238193454000e5d37</td>\n",
       "      <td>219684</td>\n",
       "      <td>0.1.3.1.1.14.4</td>\n",
       "      <td>5cca70246befb1f4c9546d2912b9419dee54439218efa5...</td>\n",
       "      <td>mc</td>\n",
       "      <td>b1dbd3a649a3cc790fa12573c9c1aa00988e07a8818a22...</td>\n",
       "      <td>NaN</td>\n",
       "      <td>1</td>\n",
       "    </tr>\n",
       "    <tr>\n",
       "      <th>4</th>\n",
       "      <td>4</td>\n",
       "      <td>0b133c1915919238193454000e5d37</td>\n",
       "      <td>219684</td>\n",
       "      <td>0.1.3.1.1.14.17</td>\n",
       "      <td>5cca70246befb1f4c9546d2912b9419dee54439218efa5...</td>\n",
       "      <td>mc</td>\n",
       "      <td>b1dbd3a649a3cc790fa12573c9c1aa00988e07a8818a22...</td>\n",
       "      <td>NaN</td>\n",
       "      <td>1</td>\n",
       "    </tr>\n",
       "  </tbody>\n",
       "</table>\n",
       "</div>"
      ],
      "text/plain": [
       "   Unnamed: 0                         traceid  timestamp            rpcid  \\\n",
       "0           0  0b133c1915919238193454000e5d37     219678   0.1.3.1.1.1.12   \n",
       "1           1  0b133c1915919238193454000e5d37     219684  0.1.3.1.1.14.19   \n",
       "2           2  0b133c1915919238193454000e5d37     219684  0.1.3.1.1.14.18   \n",
       "3           3  0b133c1915919238193454000e5d37     219684   0.1.3.1.1.14.4   \n",
       "4           4  0b133c1915919238193454000e5d37     219684  0.1.3.1.1.14.17   \n",
       "\n",
       "                                                  um rpctype  \\\n",
       "0  5cca70246befb1f4c9546d2912b9419dee54439218efa5...      mc   \n",
       "1  5cca70246befb1f4c9546d2912b9419dee54439218efa5...      mc   \n",
       "2  5cca70246befb1f4c9546d2912b9419dee54439218efa5...      mc   \n",
       "3  5cca70246befb1f4c9546d2912b9419dee54439218efa5...      mc   \n",
       "4  5cca70246befb1f4c9546d2912b9419dee54439218efa5...      mc   \n",
       "\n",
       "                                                  dm interface  rt  \n",
       "0  b1dbd3a649a3cc790fa12573c9c1aa00988e07a8818a22...       NaN   0  \n",
       "1  b1dbd3a649a3cc790fa12573c9c1aa00988e07a8818a22...       NaN   1  \n",
       "2  b1dbd3a649a3cc790fa12573c9c1aa00988e07a8818a22...       NaN   1  \n",
       "3  b1dbd3a649a3cc790fa12573c9c1aa00988e07a8818a22...       NaN   1  \n",
       "4  b1dbd3a649a3cc790fa12573c9c1aa00988e07a8818a22...       NaN   1  "
      ]
     },
     "execution_count": 4,
     "metadata": {},
     "output_type": "execute_result"
    }
   ],
   "source": [
    "df.head()"
   ]
  },
  {
   "cell_type": "code",
   "execution_count": 5,
   "id": "7352982a-f7ee-4460-84ee-a5661cc2c013",
   "metadata": {},
   "outputs": [],
   "source": [
    "traceids = df['traceid'].unique()"
   ]
  },
  {
   "cell_type": "code",
   "execution_count": 6,
   "id": "b72d314b-e143-4d03-9f7f-d32bb7629600",
   "metadata": {},
   "outputs": [],
   "source": [
    "def tracegraph(index=0, save=False):\n",
    "    tdf = df[df['traceid']==traceids[index]] # trace data frame \n",
    "    tdf = tdf.sort_values(by=\"rpcid\", key=lambda col: col.str.split(\".\").str.len()) # to order from surface down\n",
    "    print(f\"Total calls: {len(tdf)}\")\n",
    "    print(f\"Total unique DMs: {len(tdf['dm'].unique())}\")\n",
    "    class Node:\n",
    "        def __init__(self, id):\n",
    "            self.id = id\n",
    "            self.calls = []\n",
    "    nodes = {}\n",
    "    for i, (idx, row) in enumerate(tdf.iterrows()):\n",
    "        um = row[\"um\"]\n",
    "        dm = row[\"dm\"]\n",
    "        if um == \"(?)\" or str(um).lower() == \"nan\":\n",
    "            nodes[dm] = Node(dm)\n",
    "        else:\n",
    "            if um not in nodes:\n",
    "                nodes[um] = Node(um)\n",
    "            if dm not in nodes and not (dm == \"(?)\" or str(dm).lower() == \"nan\"):\n",
    "                nodes[dm] = Node(dm)\n",
    "            if dm in nodes:\n",
    "                nodes[um].calls.append(nodes[dm])\n",
    "\n",
    "    print(f\"Total Nodes: {len(nodes)}\")\n",
    "    print(\"Note: expect off by 1 or 2 because of nan and (?)\")\n",
    "\n",
    "    node_id_to_index = {node_id: idx for idx, node_id in enumerate(nodes.keys())}\n",
    "\n",
    "        \n",
    "    graph = nx.DiGraph() \n",
    "\n",
    "    for node_id, node in nodes.items():\n",
    "        graph.add_node(node_id_to_index[node_id])\n",
    "    for node_id, node in nodes.items():\n",
    "        for call in node.calls:\n",
    "            graph.add_edge(node_id_to_index[node_id], node_id_to_index[call.id])\n",
    "    \n",
    "    plt.figure(figsize=(13, 13))\n",
    "    pos = nx.spring_layout(graph)  \n",
    "    nx.draw_networkx_nodes(graph, pos, node_size=600, node_color=\"lightblue\")\n",
    "    nx.draw_networkx_edges(graph, pos, arrowstyle=\"->\", arrowsize=20)\n",
    "    nx.draw_networkx_labels(graph, pos, font_size=10, font_color=\"black\")\n",
    "    \n",
    "    plt.title(\"Microservice Call Graph\")\n",
    "    if save:\n",
    "        plt.savefig(f\"tracegraph+{index}.png\")\n",
    "    plt.show()"
   ]
  },
  {
   "cell_type": "code",
   "execution_count": 7,
   "id": "c61c874c-b235-40a0-b440-bee27e354266",
   "metadata": {},
   "outputs": [
    {
     "data": {
      "application/vnd.jupyter.widget-view+json": {
       "model_id": "9262a1b00a9e492cbc8069517c1dedfe",
       "version_major": 2,
       "version_minor": 0
      },
      "text/plain": [
       "interactive(children=(IntSlider(value=0, description='index', max=130511), Checkbox(value=False, description='…"
      ]
     },
     "metadata": {},
     "output_type": "display_data"
    }
   ],
   "source": [
    "from ipywidgets import interact, interactive, fixed, interact_manual\n",
    "import ipywidgets as widgets\n",
    "interact(tracegraph, index=widgets.IntSlider(min=0, max=len(traceids)-1, step=1, value=0));"
   ]
  },
  {
   "cell_type": "code",
   "execution_count": null,
   "id": "a980e12f-c071-40e2-8712-32642759e402",
   "metadata": {},
   "outputs": [],
   "source": []
  }
 ],
 "metadata": {
  "kernelspec": {
   "display_name": "Python 3 (ipykernel)",
   "language": "python",
   "name": "python3"
  },
  "language_info": {
   "codemirror_mode": {
    "name": "ipython",
    "version": 3
   },
   "file_extension": ".py",
   "mimetype": "text/x-python",
   "name": "python",
   "nbconvert_exporter": "python",
   "pygments_lexer": "ipython3",
   "version": "3.12.2"
  }
 },
 "nbformat": 4,
 "nbformat_minor": 5
}
